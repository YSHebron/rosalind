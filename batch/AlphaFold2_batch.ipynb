{
  "nbformat": 4,
  "nbformat_minor": 0,
  "metadata": {
    "accelerator": "GPU",
    "colab": {
      "name": "AlphaFold2_batch.ipynb",
      "provenance": [],
      "include_colab_link": true
    },
    "kernelspec": {
      "name": "python3",
      "language": "python",
      "display_name": "Python 3 (ipykernel)"
    },
    "language_info": {
      "name": "python"
    }
  },
  "cells": [
    {
      "cell_type": "markdown",
      "metadata": {
        "id": "view-in-github",
        "colab_type": "text"
      },
      "source": [
        "<a href=\"https://colab.research.google.com/github/YSHebron/rosalind/blob/main/batch/AlphaFold2_batch.ipynb\" target=\"_parent\"><img src=\"https://colab.research.google.com/assets/colab-badge.svg\" alt=\"Open In Colab\"/></a>"
      ]
    },
    {
      "cell_type": "markdown",
      "metadata": {
        "id": "G4yBrceuFbf3"
      },
      "source": [
        "#ColabFold v1.5.5: AlphaFold2 w/ MMseqs2 BATCH\n",
        "\n",
        "<img src=\"https://raw.githubusercontent.com/sokrypton/ColabFold/main/.github/ColabFold_Marv_Logo_Small.png\" height=\"256\" align=\"right\" style=\"height:256px\">\n",
        "\n",
        "Easy to use AlphaFold2 protein structure [(Jumper et al. 2021)](https://www.nature.com/articles/s41586-021-03819-2) and complex [(Evans et al. 2021)](https://www.biorxiv.org/content/10.1101/2021.10.04.463034v1) prediction using multiple sequence alignments generated through MMseqs2. For details, refer to our manuscript:\n",
        "\n",
        "[Mirdita M, Schütze K, Moriwaki Y, Heo L, Ovchinnikov S, Steinegger M. ColabFold: Making protein folding accessible to all.\n",
        "*Nature Methods*, 2022](https://www.nature.com/articles/s41592-022-01488-1)\n",
        "\n",
        "**Usage**\n",
        "\n",
        "`input_dir` directory with only fasta files or MSAs stored in Google Drive. MSAs need to be A3M formatted and have an `.a3m` extention. For MSAs MMseqs2 will not be called.\n",
        "\n",
        "`result_dir` results will be written to the result directory in Google Drive\n",
        "\n",
        "Old versions: [v1.4](https://colab.research.google.com/github/sokrypton/ColabFold/blob/v1.4.0/batch/AlphaFold2_batch.ipynb), [v1.5.1](https://colab.research.google.com/github/sokrypton/ColabFold/blob/v1.5.1/batch/AlphaFold2_batch.ipynb), [v1.5.2](https://colab.research.google.com/github/sokrypton/ColabFold/blob/v1.5.2/batch/AlphaFold2_batch.ipynb), [v1.5.3-patch](https://colab.research.google.com/github/sokrypton/ColabFold/blob/56c72044c7d51a311ca99b953a71e552fdc042e1/batch/AlphaFold2_batch.ipynb)\n",
        "\n",
        "<strong>For more details, see <a href=\"#Instructions\">bottom</a> of the notebook and checkout the [ColabFold GitHub](https://github.com/sokrypton/ColabFold). </strong>\n",
        "\n",
        "-----------\n",
        "\n",
        "### News\n",
        "- <b><font color='green'>2023/07/31: The ColabFold MSA server is back to normal. It was using older DB (UniRef30 2202/PDB70 220313) from 27th ~8:30 AM CEST to 31st ~11:10 AM CEST.</font></b>\n",
        "- <b><font color='green'>2023/06/12: New databases! UniRef30 updated to 2023_02 and PDB to 230517. We now use PDB100 instead of PDB70 (see notes in the [main](https://colabfold.com) notebook).</font></b>\n",
        "- <b><font color='green'>2023/06/12: We introduced a new default pairing strategy: Previously, for multimer predictions with more than 2 chains, we only pair if all sequences taxonomically match (\"complete\" pairing). The new default \"greedy\" strategy pairs any taxonomically matching subsets.</font></b>"
      ]
    },
    {
      "cell_type": "code",
      "metadata": {
        "id": "AwvIWN3HDyUJ",
        "outputId": "ccd25968-3d55-4cda-f17b-17acde952971",
        "colab": {
          "base_uri": "https://localhost:8080/"
        }
      },
      "source": [
        "#@title Mount google drive\n",
        "from google.colab import drive\n",
        "drive.mount('/content/drive')\n",
        "from sys import version_info\n",
        "python_version = f\"{version_info.major}.{version_info.minor}\""
      ],
      "execution_count": 1,
      "outputs": [
        {
          "output_type": "stream",
          "name": "stdout",
          "text": [
            "Mounted at /content/drive\n"
          ]
        }
      ]
    },
    {
      "cell_type": "code",
      "metadata": {
        "id": "kOblAo-xetgx",
        "cellView": "form"
      },
      "source": [
        "#@title Input protein sequence, then hit `Runtime` -> `Run all`\n",
        "\n",
        "input_dir = '/content/drive/MyDrive/input_fasta' #@param {type:\"string\"}\n",
        "result_dir = '/content/drive/MyDrive/output_fasta' #@param {type:\"string\"}\n",
        "\n",
        "# number of models to use\n",
        "#@markdown ---\n",
        "#@markdown ### Advanced settings\n",
        "msa_mode = \"MMseqs2 (UniRef+Environmental)\" #@param [\"MMseqs2 (UniRef+Environmental)\", \"MMseqs2 (UniRef only)\",\"single_sequence\",\"custom\"]\n",
        "num_models = 5 #@param [1,2,3,4,5] {type:\"raw\"}\n",
        "num_recycles = 3 #@param [1,3,6,12,24,48] {type:\"raw\"}\n",
        "stop_at_score = 100 #@param {type:\"string\"}\n",
        "#@markdown - early stop computing models once score > threshold (avg. plddt for \"structures\" and ptmscore for \"complexes\")\n",
        "use_custom_msa = False\n",
        "num_relax = 0 #@param [0, 1, 5] {type:\"raw\"}\n",
        "use_amber = num_relax > 0\n",
        "relax_max_iterations = 200 #@param [0,200,2000] {type:\"raw\"}\n",
        "use_templates = False #@param {type:\"boolean\"}\n",
        "do_not_overwrite_results = True #@param {type:\"boolean\"}\n",
        "zip_results = False #@param {type:\"boolean\"}\n"
      ],
      "execution_count": 5,
      "outputs": []
    },
    {
      "cell_type": "code",
      "metadata": {
        "id": "iccGdbe_Pmt9",
        "cellView": "form"
      },
      "source": [
        "#@title Install dependencies\n",
        "%%bash -s $use_amber $use_templates $python_version\n",
        "\n",
        "set -e\n",
        "\n",
        "USE_AMBER=$1\n",
        "USE_TEMPLATES=$2\n",
        "PYTHON_VERSION=$3\n",
        "\n",
        "if [ ! -f COLABFOLD_READY ]; then\n",
        "  # install dependencies\n",
        "  # We have to use \"--no-warn-conflicts\" because colab already has a lot preinstalled with requirements different to ours\n",
        "  pip install -q --no-warn-conflicts \"colabfold[alphafold-minus-jax] @ git+https://github.com/sokrypton/ColabFold\"\n",
        "  if [ -n \"${TPU_NAME}\" ]; then\n",
        "    pip install -q --no-warn-conflicts -U dm-haiku==0.0.10 jax==0.3.25\n",
        "  fi\n",
        "  ln -s /usr/local/lib/python3.*/dist-packages/colabfold colabfold\n",
        "  ln -s /usr/local/lib/python3.*/dist-packages/alphafold alphafold\n",
        "  touch COLABFOLD_READY\n",
        "fi\n",
        "\n",
        "# Download params (~1min)\n",
        "python -m colabfold.download\n",
        "\n",
        "# setup conda\n",
        "if [ ${USE_AMBER} == \"True\" ] || [ ${USE_TEMPLATES} == \"True\" ]; then\n",
        "  if [ ! -f CONDA_READY ]; then\n",
        "    wget -qnc https://repo.anaconda.com/miniconda/Miniconda3-latest-Linux-x86_64.sh\n",
        "    bash Miniconda3-latest-Linux-x86_64.sh -bfp /usr/local 2>&1 1>/dev/null\n",
        "    rm Miniconda3-latest-Linux-x86_64.sh\n",
        "    conda config --set auto_update_conda false\n",
        "    touch CONDA_READY\n",
        "  fi\n",
        "fi\n",
        "# setup template search\n",
        "if [ ${USE_TEMPLATES} == \"True\" ] && [ ! -f HH_READY ]; then\n",
        "  conda install -y -q -c conda-forge -c bioconda kalign2=2.04 hhsuite=3.3.0 python=\"${PYTHON_VERSION}\" 2>&1 1>/dev/null\n",
        "  touch HH_READY\n",
        "fi\n",
        "# setup openmm for amber refinement\n",
        "if [ ${USE_AMBER} == \"True\" ] && [ ! -f AMBER_READY ]; then\n",
        "  conda install -y -q -c conda-forge openmm=7.7.0 python=\"${PYTHON_VERSION}\" pdbfixer 2>&1 1>/dev/null\n",
        "  touch AMBER_READY\n",
        "fi"
      ],
      "execution_count": 6,
      "outputs": []
    },
    {
      "cell_type": "code",
      "metadata": {
        "id": "hUYApPElB30u",
        "cellView": "form",
        "outputId": "e03dd02a-5bce-408b-ed5b-13a3340beb76",
        "colab": {
          "base_uri": "https://localhost:8080/"
        }
      },
      "source": [
        "#@title Run Prediction\n",
        "\n",
        "import sys\n",
        "\n",
        "from colabfold.batch import get_queries, run\n",
        "from colabfold.download import default_data_dir\n",
        "from colabfold.utils import setup_logging\n",
        "from pathlib import Path\n",
        "\n",
        "# For some reason we need that to get pdbfixer to import\n",
        "if use_amber and f\"/usr/local/lib/python{python_version}/site-packages/\" not in sys.path:\n",
        "    sys.path.insert(0, f\"/usr/local/lib/python{python_version}/site-packages/\")\n",
        "\n",
        "setup_logging(Path(result_dir).joinpath(\"log.txt\"))\n",
        "\n",
        "queries, is_complex = get_queries(input_dir)\n",
        "run(\n",
        "    queries=queries,\n",
        "    result_dir=result_dir,\n",
        "    use_templates=use_templates,\n",
        "    num_relax=num_relax,\n",
        "    relax_max_iterations=relax_max_iterations,\n",
        "    msa_mode=msa_mode,\n",
        "    model_type=\"auto\",\n",
        "    num_models=num_models,\n",
        "    num_recycles=num_recycles,\n",
        "    model_order=[1, 2, 3, 4, 5],\n",
        "    is_complex=is_complex,\n",
        "    data_dir=default_data_dir,\n",
        "    keep_existing_results=do_not_overwrite_results,\n",
        "    rank_by=\"auto\",\n",
        "    pair_mode=\"unpaired+paired\",\n",
        "    stop_at_score=stop_at_score,\n",
        "    zip_results=zip_results,\n",
        "    user_agent=\"colabfold/google-colab-batch\",\n",
        ")"
      ],
      "execution_count": 7,
      "outputs": [
        {
          "output_type": "stream",
          "name": "stdout",
          "text": [
            "2024-12-26 16:41:58,201 Running on GPU\n",
            "2024-12-26 16:41:58,229 Found 5 citations for tools or databases\n",
            "2024-12-26 16:41:58,231 Query 1/7: 0101 (length 266)\n"
          ]
        },
        {
          "output_type": "stream",
          "name": "stderr",
          "text": [
            "COMPLETE: 100%|██████████| 150/150 [elapsed: 00:02 remaining: 00:00]\n"
          ]
        },
        {
          "output_type": "stream",
          "name": "stdout",
          "text": [
            "2024-12-26 16:42:17,398 Padding length to 276\n",
            "2024-12-26 16:42:51,092 alphafold2_ptm_model_1_seed_000 recycle=0 pLDDT=83.2 pTM=0.581\n",
            "2024-12-26 16:43:14,860 alphafold2_ptm_model_1_seed_000 recycle=1 pLDDT=85.2 pTM=0.635 tol=3.42\n",
            "2024-12-26 16:43:39,204 alphafold2_ptm_model_1_seed_000 recycle=2 pLDDT=85.6 pTM=0.646 tol=1.49\n",
            "2024-12-26 16:44:03,417 alphafold2_ptm_model_1_seed_000 recycle=3 pLDDT=85.8 pTM=0.648 tol=1.26\n",
            "2024-12-26 16:44:03,418 alphafold2_ptm_model_1_seed_000 took 106.0s (3 recycles)\n",
            "2024-12-26 16:44:27,414 alphafold2_ptm_model_2_seed_000 recycle=0 pLDDT=82.9 pTM=0.543\n",
            "2024-12-26 16:44:51,544 alphafold2_ptm_model_2_seed_000 recycle=1 pLDDT=84.5 pTM=0.601 tol=2.26\n",
            "2024-12-26 16:45:15,697 alphafold2_ptm_model_2_seed_000 recycle=2 pLDDT=84.8 pTM=0.618 tol=1.65\n",
            "2024-12-26 16:45:39,776 alphafold2_ptm_model_2_seed_000 recycle=3 pLDDT=85.1 pTM=0.625 tol=0.708\n",
            "2024-12-26 16:45:39,777 alphafold2_ptm_model_2_seed_000 took 96.2s (3 recycles)\n",
            "2024-12-26 16:46:03,998 alphafold2_ptm_model_3_seed_000 recycle=0 pLDDT=85.1 pTM=0.61\n",
            "2024-12-26 16:46:28,100 alphafold2_ptm_model_3_seed_000 recycle=1 pLDDT=85.4 pTM=0.643 tol=1.31\n",
            "2024-12-26 16:46:52,222 alphafold2_ptm_model_3_seed_000 recycle=2 pLDDT=85.6 pTM=0.647 tol=1.06\n",
            "2024-12-26 16:47:16,329 alphafold2_ptm_model_3_seed_000 recycle=3 pLDDT=85.6 pTM=0.648 tol=1.32\n",
            "2024-12-26 16:47:16,330 alphafold2_ptm_model_3_seed_000 took 96.4s (3 recycles)\n",
            "2024-12-26 16:47:40,628 alphafold2_ptm_model_4_seed_000 recycle=0 pLDDT=84.3 pTM=0.611\n",
            "2024-12-26 16:48:04,756 alphafold2_ptm_model_4_seed_000 recycle=1 pLDDT=85.7 pTM=0.649 tol=2.59\n",
            "2024-12-26 16:48:28,817 alphafold2_ptm_model_4_seed_000 recycle=2 pLDDT=85.8 pTM=0.651 tol=1.51\n",
            "2024-12-26 16:48:52,859 alphafold2_ptm_model_4_seed_000 recycle=3 pLDDT=85.9 pTM=0.653 tol=2.81\n",
            "2024-12-26 16:48:52,861 alphafold2_ptm_model_4_seed_000 took 96.4s (3 recycles)\n",
            "2024-12-26 16:49:17,170 alphafold2_ptm_model_5_seed_000 recycle=0 pLDDT=84.5 pTM=0.622\n",
            "2024-12-26 16:49:41,290 alphafold2_ptm_model_5_seed_000 recycle=1 pLDDT=85.4 pTM=0.651 tol=1.09\n",
            "2024-12-26 16:50:05,363 alphafold2_ptm_model_5_seed_000 recycle=2 pLDDT=85 pTM=0.65 tol=1.08\n",
            "2024-12-26 16:50:29,555 alphafold2_ptm_model_5_seed_000 recycle=3 pLDDT=85 pTM=0.655 tol=0.771\n",
            "2024-12-26 16:50:29,557 alphafold2_ptm_model_5_seed_000 took 96.5s (3 recycles)\n",
            "2024-12-26 16:50:29,671 reranking models by 'plddt' metric\n",
            "2024-12-26 16:50:29,673 rank_001_alphafold2_ptm_model_4_seed_000 pLDDT=85.9 pTM=0.653\n",
            "2024-12-26 16:50:29,676 rank_002_alphafold2_ptm_model_1_seed_000 pLDDT=85.8 pTM=0.648\n",
            "2024-12-26 16:50:29,680 rank_003_alphafold2_ptm_model_3_seed_000 pLDDT=85.6 pTM=0.648\n",
            "2024-12-26 16:50:29,684 rank_004_alphafold2_ptm_model_2_seed_000 pLDDT=85.1 pTM=0.625\n",
            "2024-12-26 16:50:29,687 rank_005_alphafold2_ptm_model_5_seed_000 pLDDT=85 pTM=0.655\n",
            "2024-12-26 16:50:31,275 Query 2/7: 0102 (length 266)\n"
          ]
        },
        {
          "output_type": "stream",
          "name": "stderr",
          "text": [
            "COMPLETE: 100%|██████████| 150/150 [elapsed: 00:02 remaining: 00:00]\n"
          ]
        },
        {
          "output_type": "stream",
          "name": "stdout",
          "text": [
            "2024-12-26 16:50:45,617 Padding length to 276\n",
            "2024-12-26 16:51:09,813 alphafold2_ptm_model_1_seed_000 recycle=0 pLDDT=83.2 pTM=0.567\n",
            "2024-12-26 16:51:34,304 alphafold2_ptm_model_1_seed_000 recycle=1 pLDDT=84.6 pTM=0.616 tol=3.33\n",
            "2024-12-26 16:51:58,220 alphafold2_ptm_model_1_seed_000 recycle=2 pLDDT=85.2 pTM=0.639 tol=1.44\n",
            "2024-12-26 16:52:22,153 alphafold2_ptm_model_1_seed_000 recycle=3 pLDDT=85.7 pTM=0.644 tol=0.736\n",
            "2024-12-26 16:52:22,155 alphafold2_ptm_model_1_seed_000 took 96.5s (3 recycles)\n",
            "2024-12-26 16:52:46,514 alphafold2_ptm_model_2_seed_000 recycle=0 pLDDT=84.4 pTM=0.554\n",
            "2024-12-26 16:53:10,637 alphafold2_ptm_model_2_seed_000 recycle=1 pLDDT=84.8 pTM=0.595 tol=3.32\n",
            "2024-12-26 16:53:34,628 alphafold2_ptm_model_2_seed_000 recycle=2 pLDDT=85.2 pTM=0.617 tol=1.82\n",
            "2024-12-26 16:53:58,772 alphafold2_ptm_model_2_seed_000 recycle=3 pLDDT=85.3 pTM=0.624 tol=3.37\n",
            "2024-12-26 16:53:58,774 alphafold2_ptm_model_2_seed_000 took 96.5s (3 recycles)\n",
            "2024-12-26 16:54:23,111 alphafold2_ptm_model_3_seed_000 recycle=0 pLDDT=85.3 pTM=0.609\n",
            "2024-12-26 16:54:47,167 alphafold2_ptm_model_3_seed_000 recycle=1 pLDDT=85.9 pTM=0.64 tol=1.97\n",
            "2024-12-26 16:55:11,206 alphafold2_ptm_model_3_seed_000 recycle=2 pLDDT=86.2 pTM=0.651 tol=1.65\n",
            "2024-12-26 16:55:35,296 alphafold2_ptm_model_3_seed_000 recycle=3 pLDDT=86.4 pTM=0.652 tol=0.688\n",
            "2024-12-26 16:55:35,303 alphafold2_ptm_model_3_seed_000 took 96.3s (3 recycles)\n",
            "2024-12-26 16:55:59,541 alphafold2_ptm_model_4_seed_000 recycle=0 pLDDT=84.4 pTM=0.609\n",
            "2024-12-26 16:56:23,612 alphafold2_ptm_model_4_seed_000 recycle=1 pLDDT=85.7 pTM=0.641 tol=2.97\n",
            "2024-12-26 16:56:47,719 alphafold2_ptm_model_4_seed_000 recycle=2 pLDDT=86 pTM=0.649 tol=1.12\n",
            "2024-12-26 16:57:11,885 alphafold2_ptm_model_4_seed_000 recycle=3 pLDDT=85.8 pTM=0.65 tol=1.6\n",
            "2024-12-26 16:57:11,886 alphafold2_ptm_model_4_seed_000 took 96.4s (3 recycles)\n",
            "2024-12-26 16:57:36,183 alphafold2_ptm_model_5_seed_000 recycle=0 pLDDT=85.4 pTM=0.611\n",
            "2024-12-26 16:58:00,290 alphafold2_ptm_model_5_seed_000 recycle=1 pLDDT=85.9 pTM=0.644 tol=1.86\n",
            "2024-12-26 16:58:24,368 alphafold2_ptm_model_5_seed_000 recycle=2 pLDDT=86.2 pTM=0.656 tol=0.678\n",
            "2024-12-26 16:58:48,515 alphafold2_ptm_model_5_seed_000 recycle=3 pLDDT=86.1 pTM=0.66 tol=2.01\n",
            "2024-12-26 16:58:48,517 alphafold2_ptm_model_5_seed_000 took 96.4s (3 recycles)\n",
            "2024-12-26 16:58:48,715 reranking models by 'plddt' metric\n",
            "2024-12-26 16:58:48,716 rank_001_alphafold2_ptm_model_3_seed_000 pLDDT=86.4 pTM=0.652\n",
            "2024-12-26 16:58:48,719 rank_002_alphafold2_ptm_model_5_seed_000 pLDDT=86.1 pTM=0.66\n",
            "2024-12-26 16:58:48,727 rank_003_alphafold2_ptm_model_4_seed_000 pLDDT=85.8 pTM=0.65\n",
            "2024-12-26 16:58:48,732 rank_004_alphafold2_ptm_model_1_seed_000 pLDDT=85.7 pTM=0.644\n",
            "2024-12-26 16:58:48,736 rank_005_alphafold2_ptm_model_2_seed_000 pLDDT=85.3 pTM=0.624\n",
            "2024-12-26 16:58:51,095 Query 3/7: 0401 (length 266)\n"
          ]
        },
        {
          "output_type": "stream",
          "name": "stderr",
          "text": [
            "COMPLETE: 100%|██████████| 150/150 [elapsed: 00:02 remaining: 00:00]\n"
          ]
        },
        {
          "output_type": "stream",
          "name": "stdout",
          "text": [
            "2024-12-26 16:59:04,740 Padding length to 276\n",
            "2024-12-26 16:59:28,866 alphafold2_ptm_model_1_seed_000 recycle=0 pLDDT=83.5 pTM=0.585\n",
            "2024-12-26 16:59:53,312 alphafold2_ptm_model_1_seed_000 recycle=1 pLDDT=84.8 pTM=0.62 tol=5.09\n",
            "2024-12-26 17:00:17,243 alphafold2_ptm_model_1_seed_000 recycle=2 pLDDT=85.4 pTM=0.638 tol=1.61\n",
            "2024-12-26 17:00:41,216 alphafold2_ptm_model_1_seed_000 recycle=3 pLDDT=85.8 pTM=0.639 tol=1.06\n",
            "2024-12-26 17:00:41,217 alphafold2_ptm_model_1_seed_000 took 96.5s (3 recycles)\n",
            "2024-12-26 17:01:05,546 alphafold2_ptm_model_2_seed_000 recycle=0 pLDDT=84.9 pTM=0.58\n",
            "2024-12-26 17:01:29,677 alphafold2_ptm_model_2_seed_000 recycle=1 pLDDT=85.2 pTM=0.601 tol=2.91\n",
            "2024-12-26 17:01:53,687 alphafold2_ptm_model_2_seed_000 recycle=2 pLDDT=85.5 pTM=0.618 tol=0.945\n",
            "2024-12-26 17:02:17,816 alphafold2_ptm_model_2_seed_000 recycle=3 pLDDT=85.8 pTM=0.623 tol=0.882\n",
            "2024-12-26 17:02:17,817 alphafold2_ptm_model_2_seed_000 took 96.4s (3 recycles)\n",
            "2024-12-26 17:02:42,134 alphafold2_ptm_model_3_seed_000 recycle=0 pLDDT=85.2 pTM=0.605\n",
            "2024-12-26 17:03:06,224 alphafold2_ptm_model_3_seed_000 recycle=1 pLDDT=85.7 pTM=0.637 tol=2.75\n",
            "2024-12-26 17:03:30,295 alphafold2_ptm_model_3_seed_000 recycle=2 pLDDT=85.8 pTM=0.646 tol=1.17\n",
            "2024-12-26 17:03:54,448 alphafold2_ptm_model_3_seed_000 recycle=3 pLDDT=86.2 pTM=0.648 tol=0.813\n",
            "2024-12-26 17:03:54,450 alphafold2_ptm_model_3_seed_000 took 96.4s (3 recycles)\n",
            "2024-12-26 17:04:18,678 alphafold2_ptm_model_4_seed_000 recycle=0 pLDDT=85.2 pTM=0.614\n",
            "2024-12-26 17:04:42,729 alphafold2_ptm_model_4_seed_000 recycle=1 pLDDT=86.2 pTM=0.64 tol=3.17\n",
            "2024-12-26 17:05:06,884 alphafold2_ptm_model_4_seed_000 recycle=2 pLDDT=86.4 pTM=0.65 tol=0.83\n",
            "2024-12-26 17:05:31,057 alphafold2_ptm_model_4_seed_000 recycle=3 pLDDT=86.2 pTM=0.647 tol=1.02\n",
            "2024-12-26 17:05:31,059 alphafold2_ptm_model_4_seed_000 took 96.4s (3 recycles)\n",
            "2024-12-26 17:05:55,329 alphafold2_ptm_model_5_seed_000 recycle=0 pLDDT=85.9 pTM=0.625\n",
            "2024-12-26 17:06:19,394 alphafold2_ptm_model_5_seed_000 recycle=1 pLDDT=85.7 pTM=0.646 tol=2.8\n",
            "2024-12-26 17:06:43,517 alphafold2_ptm_model_5_seed_000 recycle=2 pLDDT=85.8 pTM=0.652 tol=0.931\n",
            "2024-12-26 17:07:07,550 alphafold2_ptm_model_5_seed_000 recycle=3 pLDDT=86.1 pTM=0.656 tol=1.18\n",
            "2024-12-26 17:07:07,551 alphafold2_ptm_model_5_seed_000 took 96.3s (3 recycles)\n",
            "2024-12-26 17:07:07,660 reranking models by 'plddt' metric\n",
            "2024-12-26 17:07:07,661 rank_001_alphafold2_ptm_model_4_seed_000 pLDDT=86.2 pTM=0.647\n",
            "2024-12-26 17:07:07,665 rank_002_alphafold2_ptm_model_3_seed_000 pLDDT=86.2 pTM=0.648\n",
            "2024-12-26 17:07:07,669 rank_003_alphafold2_ptm_model_5_seed_000 pLDDT=86.1 pTM=0.656\n",
            "2024-12-26 17:07:07,671 rank_004_alphafold2_ptm_model_2_seed_000 pLDDT=85.8 pTM=0.623\n",
            "2024-12-26 17:07:07,674 rank_005_alphafold2_ptm_model_1_seed_000 pLDDT=85.8 pTM=0.639\n",
            "2024-12-26 17:07:10,303 Query 4/7: 0409 (length 266)\n"
          ]
        },
        {
          "output_type": "stream",
          "name": "stderr",
          "text": [
            "PENDING:   0%|          | 0/150 [elapsed: 00:00 remaining: ?]"
          ]
        },
        {
          "output_type": "stream",
          "name": "stdout",
          "text": [
            "2024-12-26 17:07:10,982 Sleeping for 9s. Reason: PENDING\n"
          ]
        },
        {
          "output_type": "stream",
          "name": "stderr",
          "text": [
            "RUNNING:   6%|▌         | 9/150 [elapsed: 00:10 remaining: 02:41]"
          ]
        },
        {
          "output_type": "stream",
          "name": "stdout",
          "text": [
            "2024-12-26 17:07:20,605 Sleeping for 10s. Reason: RUNNING\n"
          ]
        },
        {
          "output_type": "stream",
          "name": "stderr",
          "text": [
            "RUNNING:  13%|█▎        | 19/150 [elapsed: 00:20 remaining: 02:23]"
          ]
        },
        {
          "output_type": "stream",
          "name": "stdout",
          "text": [
            "2024-12-26 17:07:31,225 Sleeping for 5s. Reason: RUNNING\n"
          ]
        },
        {
          "output_type": "stream",
          "name": "stderr",
          "text": [
            "RUNNING:  16%|█▌        | 24/150 [elapsed: 00:26 remaining: 02:18]"
          ]
        },
        {
          "output_type": "stream",
          "name": "stdout",
          "text": [
            "2024-12-26 17:07:36,846 Sleeping for 9s. Reason: RUNNING\n"
          ]
        },
        {
          "output_type": "stream",
          "name": "stderr",
          "text": [
            "RUNNING:  22%|██▏       | 33/150 [elapsed: 00:36 remaining: 02:08]"
          ]
        },
        {
          "output_type": "stream",
          "name": "stdout",
          "text": [
            "2024-12-26 17:07:46,615 Sleeping for 7s. Reason: RUNNING\n"
          ]
        },
        {
          "output_type": "stream",
          "name": "stderr",
          "text": [
            "RUNNING:  27%|██▋       | 40/150 [elapsed: 00:43 remaining: 02:00]"
          ]
        },
        {
          "output_type": "stream",
          "name": "stdout",
          "text": [
            "2024-12-26 17:07:54,230 Sleeping for 9s. Reason: RUNNING\n"
          ]
        },
        {
          "output_type": "stream",
          "name": "stderr",
          "text": [
            "RUNNING:  33%|███▎      | 49/150 [elapsed: 00:53 remaining: 01:49]"
          ]
        },
        {
          "output_type": "stream",
          "name": "stdout",
          "text": [
            "2024-12-26 17:08:03,843 Sleeping for 7s. Reason: RUNNING\n"
          ]
        },
        {
          "output_type": "stream",
          "name": "stderr",
          "text": [
            "COMPLETE: 100%|██████████| 150/150 [elapsed: 01:02 remaining: 00:00]\n"
          ]
        },
        {
          "output_type": "stream",
          "name": "stdout",
          "text": [
            "2024-12-26 17:08:24,296 Padding length to 276\n",
            "2024-12-26 17:08:48,569 alphafold2_ptm_model_1_seed_000 recycle=0 pLDDT=83.4 pTM=0.581\n",
            "2024-12-26 17:09:12,915 alphafold2_ptm_model_1_seed_000 recycle=1 pLDDT=84.4 pTM=0.622 tol=4.84\n",
            "2024-12-26 17:09:36,797 alphafold2_ptm_model_1_seed_000 recycle=2 pLDDT=85.1 pTM=0.638 tol=2.92\n",
            "2024-12-26 17:10:00,841 alphafold2_ptm_model_1_seed_000 recycle=3 pLDDT=85.6 pTM=0.646 tol=1.51\n",
            "2024-12-26 17:10:00,843 alphafold2_ptm_model_1_seed_000 took 96.5s (3 recycles)\n",
            "2024-12-26 17:10:25,220 alphafold2_ptm_model_2_seed_000 recycle=0 pLDDT=85.2 pTM=0.576\n",
            "2024-12-26 17:10:49,313 alphafold2_ptm_model_2_seed_000 recycle=1 pLDDT=85.2 pTM=0.606 tol=3.63\n",
            "2024-12-26 17:11:13,317 alphafold2_ptm_model_2_seed_000 recycle=2 pLDDT=85.5 pTM=0.623 tol=1.01\n",
            "2024-12-26 17:11:37,465 alphafold2_ptm_model_2_seed_000 recycle=3 pLDDT=85.6 pTM=0.63 tol=2.25\n",
            "2024-12-26 17:11:37,466 alphafold2_ptm_model_2_seed_000 took 96.4s (3 recycles)\n",
            "2024-12-26 17:12:01,848 alphafold2_ptm_model_3_seed_000 recycle=0 pLDDT=85.1 pTM=0.605\n",
            "2024-12-26 17:12:25,917 alphafold2_ptm_model_3_seed_000 recycle=1 pLDDT=85.4 pTM=0.634 tol=2.17\n",
            "2024-12-26 17:12:50,009 alphafold2_ptm_model_3_seed_000 recycle=2 pLDDT=85.6 pTM=0.642 tol=1.06\n",
            "2024-12-26 17:13:14,138 alphafold2_ptm_model_3_seed_000 recycle=3 pLDDT=85.7 pTM=0.647 tol=1.14\n",
            "2024-12-26 17:13:14,140 alphafold2_ptm_model_3_seed_000 took 96.4s (3 recycles)\n",
            "2024-12-26 17:13:38,421 alphafold2_ptm_model_4_seed_000 recycle=0 pLDDT=85.2 pTM=0.615\n",
            "2024-12-26 17:14:02,518 alphafold2_ptm_model_4_seed_000 recycle=1 pLDDT=85.6 pTM=0.641 tol=2.97\n",
            "2024-12-26 17:14:26,670 alphafold2_ptm_model_4_seed_000 recycle=2 pLDDT=86.1 pTM=0.651 tol=1.75\n",
            "2024-12-26 17:14:50,719 alphafold2_ptm_model_4_seed_000 recycle=3 pLDDT=86.1 pTM=0.655 tol=1.09\n",
            "2024-12-26 17:14:50,720 alphafold2_ptm_model_4_seed_000 took 96.4s (3 recycles)\n",
            "2024-12-26 17:15:14,972 alphafold2_ptm_model_5_seed_000 recycle=0 pLDDT=85.7 pTM=0.622\n",
            "2024-12-26 17:15:39,021 alphafold2_ptm_model_5_seed_000 recycle=1 pLDDT=85.6 pTM=0.645 tol=3.15\n",
            "2024-12-26 17:16:03,161 alphafold2_ptm_model_5_seed_000 recycle=2 pLDDT=86.1 pTM=0.656 tol=0.856\n",
            "2024-12-26 17:16:27,229 alphafold2_ptm_model_5_seed_000 recycle=3 pLDDT=86.1 pTM=0.66 tol=0.988\n",
            "2024-12-26 17:16:27,230 alphafold2_ptm_model_5_seed_000 took 96.3s (3 recycles)\n",
            "2024-12-26 17:16:27,339 reranking models by 'plddt' metric\n",
            "2024-12-26 17:16:27,340 rank_001_alphafold2_ptm_model_5_seed_000 pLDDT=86.1 pTM=0.66\n",
            "2024-12-26 17:16:27,344 rank_002_alphafold2_ptm_model_4_seed_000 pLDDT=86.1 pTM=0.655\n",
            "2024-12-26 17:16:27,348 rank_003_alphafold2_ptm_model_3_seed_000 pLDDT=85.7 pTM=0.647\n",
            "2024-12-26 17:16:27,351 rank_004_alphafold2_ptm_model_2_seed_000 pLDDT=85.6 pTM=0.63\n",
            "2024-12-26 17:16:27,355 rank_005_alphafold2_ptm_model_1_seed_000 pLDDT=85.6 pTM=0.646\n",
            "2024-12-26 17:16:29,337 Query 5/7: 1001 (length 266)\n"
          ]
        },
        {
          "output_type": "stream",
          "name": "stderr",
          "text": [
            "COMPLETE: 100%|██████████| 150/150 [elapsed: 00:02 remaining: 00:00]\n"
          ]
        },
        {
          "output_type": "stream",
          "name": "stdout",
          "text": [
            "2024-12-26 17:16:40,246 Padding length to 276\n",
            "2024-12-26 17:17:04,385 alphafold2_ptm_model_1_seed_000 recycle=0 pLDDT=84 pTM=0.581\n",
            "2024-12-26 17:17:28,793 alphafold2_ptm_model_1_seed_000 recycle=1 pLDDT=85.2 pTM=0.615 tol=2.81\n",
            "2024-12-26 17:17:52,789 alphafold2_ptm_model_1_seed_000 recycle=2 pLDDT=85.2 pTM=0.625 tol=1.23\n",
            "2024-12-26 17:18:16,708 alphafold2_ptm_model_1_seed_000 recycle=3 pLDDT=85.6 pTM=0.638 tol=1.5\n",
            "2024-12-26 17:18:16,710 alphafold2_ptm_model_1_seed_000 took 96.5s (3 recycles)\n",
            "2024-12-26 17:18:40,953 alphafold2_ptm_model_2_seed_000 recycle=0 pLDDT=85.3 pTM=0.586\n",
            "2024-12-26 17:19:05,068 alphafold2_ptm_model_2_seed_000 recycle=1 pLDDT=85 pTM=0.592 tol=3.11\n",
            "2024-12-26 17:19:29,165 alphafold2_ptm_model_2_seed_000 recycle=2 pLDDT=85.2 pTM=0.603 tol=1.24\n",
            "2024-12-26 17:19:53,230 alphafold2_ptm_model_2_seed_000 recycle=3 pLDDT=85.6 pTM=0.616 tol=1.38\n",
            "2024-12-26 17:19:53,232 alphafold2_ptm_model_2_seed_000 took 96.4s (3 recycles)\n",
            "2024-12-26 17:20:17,446 alphafold2_ptm_model_3_seed_000 recycle=0 pLDDT=85.4 pTM=0.611\n",
            "2024-12-26 17:20:41,546 alphafold2_ptm_model_3_seed_000 recycle=1 pLDDT=85.6 pTM=0.638 tol=1.42\n",
            "2024-12-26 17:21:05,665 alphafold2_ptm_model_3_seed_000 recycle=2 pLDDT=85.6 pTM=0.644 tol=0.881\n",
            "2024-12-26 17:21:29,711 alphafold2_ptm_model_3_seed_000 recycle=3 pLDDT=86.2 pTM=0.651 tol=1.04\n",
            "2024-12-26 17:21:29,712 alphafold2_ptm_model_3_seed_000 took 96.4s (3 recycles)\n",
            "2024-12-26 17:21:53,908 alphafold2_ptm_model_4_seed_000 recycle=0 pLDDT=85.5 pTM=0.62\n",
            "2024-12-26 17:22:18,009 alphafold2_ptm_model_4_seed_000 recycle=1 pLDDT=86.1 pTM=0.635 tol=2.84\n",
            "2024-12-26 17:22:42,176 alphafold2_ptm_model_4_seed_000 recycle=2 pLDDT=86.1 pTM=0.646 tol=1.73\n",
            "2024-12-26 17:23:06,250 alphafold2_ptm_model_4_seed_000 recycle=3 pLDDT=86.4 pTM=0.651 tol=1.29\n",
            "2024-12-26 17:23:06,251 alphafold2_ptm_model_4_seed_000 took 96.4s (3 recycles)\n",
            "2024-12-26 17:23:30,403 alphafold2_ptm_model_5_seed_000 recycle=0 pLDDT=86.1 pTM=0.626\n",
            "2024-12-26 17:23:54,533 alphafold2_ptm_model_5_seed_000 recycle=1 pLDDT=86.1 pTM=0.646 tol=1.74\n",
            "2024-12-26 17:24:18,584 alphafold2_ptm_model_5_seed_000 recycle=2 pLDDT=86 pTM=0.651 tol=1.1\n",
            "2024-12-26 17:24:42,646 alphafold2_ptm_model_5_seed_000 recycle=3 pLDDT=86.1 pTM=0.656 tol=1.83\n",
            "2024-12-26 17:24:42,647 alphafold2_ptm_model_5_seed_000 took 96.3s (3 recycles)\n",
            "2024-12-26 17:24:42,768 reranking models by 'plddt' metric\n",
            "2024-12-26 17:24:42,769 rank_001_alphafold2_ptm_model_4_seed_000 pLDDT=86.4 pTM=0.651\n",
            "2024-12-26 17:24:42,773 rank_002_alphafold2_ptm_model_3_seed_000 pLDDT=86.2 pTM=0.651\n",
            "2024-12-26 17:24:42,776 rank_003_alphafold2_ptm_model_5_seed_000 pLDDT=86.1 pTM=0.656\n",
            "2024-12-26 17:24:42,781 rank_004_alphafold2_ptm_model_2_seed_000 pLDDT=85.6 pTM=0.616\n",
            "2024-12-26 17:24:42,784 rank_005_alphafold2_ptm_model_1_seed_000 pLDDT=85.6 pTM=0.638\n",
            "2024-12-26 17:24:44,363 Query 6/7: 1303 (length 266)\n"
          ]
        },
        {
          "output_type": "stream",
          "name": "stderr",
          "text": [
            "COMPLETE: 100%|██████████| 150/150 [elapsed: 00:02 remaining: 00:00]\n"
          ]
        },
        {
          "output_type": "stream",
          "name": "stdout",
          "text": [
            "2024-12-26 17:24:57,618 Padding length to 276\n",
            "2024-12-26 17:25:21,796 alphafold2_ptm_model_1_seed_000 recycle=0 pLDDT=83.1 pTM=0.587\n",
            "2024-12-26 17:25:46,222 alphafold2_ptm_model_1_seed_000 recycle=1 pLDDT=84.4 pTM=0.616 tol=3.24\n",
            "2024-12-26 17:26:10,288 alphafold2_ptm_model_1_seed_000 recycle=2 pLDDT=84.9 pTM=0.634 tol=1.3\n",
            "2024-12-26 17:26:34,257 alphafold2_ptm_model_1_seed_000 recycle=3 pLDDT=85.3 pTM=0.635 tol=0.657\n",
            "2024-12-26 17:26:34,258 alphafold2_ptm_model_1_seed_000 took 96.6s (3 recycles)\n",
            "2024-12-26 17:26:58,502 alphafold2_ptm_model_2_seed_000 recycle=0 pLDDT=85.4 pTM=0.589\n",
            "2024-12-26 17:27:22,663 alphafold2_ptm_model_2_seed_000 recycle=1 pLDDT=85.2 pTM=0.612 tol=3.47\n",
            "2024-12-26 17:27:46,761 alphafold2_ptm_model_2_seed_000 recycle=2 pLDDT=85.2 pTM=0.619 tol=3.69\n",
            "2024-12-26 17:28:10,797 alphafold2_ptm_model_2_seed_000 recycle=3 pLDDT=85.4 pTM=0.625 tol=1.73\n",
            "2024-12-26 17:28:10,798 alphafold2_ptm_model_2_seed_000 took 96.4s (3 recycles)\n",
            "2024-12-26 17:28:35,046 alphafold2_ptm_model_3_seed_000 recycle=0 pLDDT=85.1 pTM=0.606\n",
            "2024-12-26 17:28:59,234 alphafold2_ptm_model_3_seed_000 recycle=1 pLDDT=85.4 pTM=0.633 tol=2.93\n",
            "2024-12-26 17:29:23,336 alphafold2_ptm_model_3_seed_000 recycle=2 pLDDT=85.9 pTM=0.645 tol=1.45\n",
            "2024-12-26 17:29:47,423 alphafold2_ptm_model_3_seed_000 recycle=3 pLDDT=86.3 pTM=0.65 tol=0.953\n",
            "2024-12-26 17:29:47,424 alphafold2_ptm_model_3_seed_000 took 96.4s (3 recycles)\n",
            "2024-12-26 17:30:11,599 alphafold2_ptm_model_4_seed_000 recycle=0 pLDDT=85.9 pTM=0.62\n",
            "2024-12-26 17:30:35,762 alphafold2_ptm_model_4_seed_000 recycle=1 pLDDT=86 pTM=0.642 tol=2.38\n",
            "2024-12-26 17:30:59,839 alphafold2_ptm_model_4_seed_000 recycle=2 pLDDT=85.8 pTM=0.646 tol=0.869\n",
            "2024-12-26 17:31:23,891 alphafold2_ptm_model_4_seed_000 recycle=3 pLDDT=85.9 pTM=0.646 tol=1.02\n",
            "2024-12-26 17:31:23,892 alphafold2_ptm_model_4_seed_000 took 96.4s (3 recycles)\n",
            "2024-12-26 17:31:48,049 alphafold2_ptm_model_5_seed_000 recycle=0 pLDDT=86.1 pTM=0.629\n",
            "2024-12-26 17:32:12,192 alphafold2_ptm_model_5_seed_000 recycle=1 pLDDT=86.1 pTM=0.651 tol=1.46\n",
            "2024-12-26 17:32:36,296 alphafold2_ptm_model_5_seed_000 recycle=2 pLDDT=85.9 pTM=0.653 tol=1\n",
            "2024-12-26 17:33:00,385 alphafold2_ptm_model_5_seed_000 recycle=3 pLDDT=86.2 pTM=0.658 tol=0.664\n",
            "2024-12-26 17:33:00,387 alphafold2_ptm_model_5_seed_000 took 96.4s (3 recycles)\n",
            "2024-12-26 17:33:00,496 reranking models by 'plddt' metric\n",
            "2024-12-26 17:33:00,497 rank_001_alphafold2_ptm_model_3_seed_000 pLDDT=86.3 pTM=0.65\n",
            "2024-12-26 17:33:00,501 rank_002_alphafold2_ptm_model_5_seed_000 pLDDT=86.2 pTM=0.658\n",
            "2024-12-26 17:33:00,505 rank_003_alphafold2_ptm_model_4_seed_000 pLDDT=85.9 pTM=0.646\n",
            "2024-12-26 17:33:00,508 rank_004_alphafold2_ptm_model_2_seed_000 pLDDT=85.4 pTM=0.625\n",
            "2024-12-26 17:33:00,512 rank_005_alphafold2_ptm_model_1_seed_000 pLDDT=85.3 pTM=0.635\n",
            "2024-12-26 17:33:02,526 Query 7/7: gp110 (length 857)\n"
          ]
        },
        {
          "output_type": "stream",
          "name": "stderr",
          "text": [
            "PENDING:   0%|          | 0/150 [elapsed: 00:00 remaining: ?]"
          ]
        },
        {
          "output_type": "stream",
          "name": "stdout",
          "text": [
            "2024-12-26 17:33:03,285 Sleeping for 8s. Reason: PENDING\n"
          ]
        },
        {
          "output_type": "stream",
          "name": "stderr",
          "text": [
            "RUNNING:   5%|▌         | 8/150 [elapsed: 00:09 remaining: 02:46]"
          ]
        },
        {
          "output_type": "stream",
          "name": "stdout",
          "text": [
            "2024-12-26 17:33:11,898 Sleeping for 9s. Reason: RUNNING\n"
          ]
        },
        {
          "output_type": "stream",
          "name": "stderr",
          "text": [
            "RUNNING:  11%|█▏        | 17/150 [elapsed: 00:18 remaining: 02:27]"
          ]
        },
        {
          "output_type": "stream",
          "name": "stdout",
          "text": [
            "2024-12-26 17:33:21,523 Sleeping for 8s. Reason: RUNNING\n"
          ]
        },
        {
          "output_type": "stream",
          "name": "stderr",
          "text": [
            "RUNNING:  17%|█▋        | 25/150 [elapsed: 00:27 remaining: 02:16]"
          ]
        },
        {
          "output_type": "stream",
          "name": "stdout",
          "text": [
            "2024-12-26 17:33:30,151 Sleeping for 10s. Reason: RUNNING\n"
          ]
        },
        {
          "output_type": "stream",
          "name": "stderr",
          "text": [
            "RUNNING:  23%|██▎       | 35/150 [elapsed: 00:38 remaining: 02:04]"
          ]
        },
        {
          "output_type": "stream",
          "name": "stdout",
          "text": [
            "2024-12-26 17:33:40,814 Sleeping for 7s. Reason: RUNNING\n"
          ]
        },
        {
          "output_type": "stream",
          "name": "stderr",
          "text": [
            "RUNNING:  28%|██▊       | 42/150 [elapsed: 00:45 remaining: 01:57]"
          ]
        },
        {
          "output_type": "stream",
          "name": "stdout",
          "text": [
            "2024-12-26 17:33:48,440 Sleeping for 7s. Reason: RUNNING\n"
          ]
        },
        {
          "output_type": "stream",
          "name": "stderr",
          "text": [
            "RUNNING:  33%|███▎      | 49/150 [elapsed: 00:53 remaining: 01:49]"
          ]
        },
        {
          "output_type": "stream",
          "name": "stdout",
          "text": [
            "2024-12-26 17:33:56,059 Sleeping for 6s. Reason: RUNNING\n"
          ]
        },
        {
          "output_type": "stream",
          "name": "stderr",
          "text": [
            "RUNNING:  37%|███▋      | 55/150 [elapsed: 01:00 remaining: 01:43]"
          ]
        },
        {
          "output_type": "stream",
          "name": "stdout",
          "text": [
            "2024-12-26 17:34:02,679 Sleeping for 5s. Reason: RUNNING\n"
          ]
        },
        {
          "output_type": "stream",
          "name": "stderr",
          "text": [
            "RUNNING:  40%|████      | 60/150 [elapsed: 01:05 remaining: 01:38]"
          ]
        },
        {
          "output_type": "stream",
          "name": "stdout",
          "text": [
            "2024-12-26 17:34:08,298 Sleeping for 5s. Reason: RUNNING\n"
          ]
        },
        {
          "output_type": "stream",
          "name": "stderr",
          "text": [
            "RUNNING:  43%|████▎     | 65/150 [elapsed: 01:11 remaining: 01:33]"
          ]
        },
        {
          "output_type": "stream",
          "name": "stdout",
          "text": [
            "2024-12-26 17:34:13,913 Sleeping for 5s. Reason: RUNNING\n"
          ]
        },
        {
          "output_type": "stream",
          "name": "stderr",
          "text": [
            "RUNNING:  47%|████▋     | 70/150 [elapsed: 01:17 remaining: 01:28]"
          ]
        },
        {
          "output_type": "stream",
          "name": "stdout",
          "text": [
            "2024-12-26 17:34:19,539 Sleeping for 10s. Reason: RUNNING\n"
          ]
        },
        {
          "output_type": "stream",
          "name": "stderr",
          "text": [
            "RUNNING:  53%|█████▎    | 80/150 [elapsed: 01:27 remaining: 01:16]"
          ]
        },
        {
          "output_type": "stream",
          "name": "stdout",
          "text": [
            "2024-12-26 17:34:30,149 Sleeping for 9s. Reason: RUNNING\n"
          ]
        },
        {
          "output_type": "stream",
          "name": "stderr",
          "text": [
            "RUNNING:  59%|█████▉    | 89/150 [elapsed: 01:37 remaining: 01:06]"
          ]
        },
        {
          "output_type": "stream",
          "name": "stdout",
          "text": [
            "2024-12-26 17:34:39,777 Sleeping for 10s. Reason: RUNNING\n"
          ]
        },
        {
          "output_type": "stream",
          "name": "stderr",
          "text": [
            "COMPLETE: 100%|██████████| 150/150 [elapsed: 01:49 remaining: 00:00]\n"
          ]
        },
        {
          "output_type": "stream",
          "name": "stdout",
          "text": [
            "2024-12-26 17:38:45,739 alphafold2_ptm_model_1_seed_000 recycle=0 pLDDT=65.3 pTM=0.45\n",
            "2024-12-26 17:41:40,871 alphafold2_ptm_model_1_seed_000 recycle=1 pLDDT=69.6 pTM=0.473 tol=21.8\n",
            "2024-12-26 17:44:35,547 alphafold2_ptm_model_1_seed_000 recycle=2 pLDDT=70.1 pTM=0.487 tol=5.88\n",
            "2024-12-26 17:47:30,635 alphafold2_ptm_model_1_seed_000 recycle=3 pLDDT=70.1 pTM=0.488 tol=3.96\n",
            "2024-12-26 17:47:30,653 alphafold2_ptm_model_1_seed_000 took 755.2s (3 recycles)\n",
            "2024-12-26 17:50:25,255 alphafold2_ptm_model_2_seed_000 recycle=0 pLDDT=64.2 pTM=0.427\n",
            "2024-12-26 17:53:21,210 alphafold2_ptm_model_2_seed_000 recycle=1 pLDDT=67.2 pTM=0.444 tol=17.1\n",
            "2024-12-26 17:56:15,775 alphafold2_ptm_model_2_seed_000 recycle=2 pLDDT=68.3 pTM=0.453 tol=5.9\n",
            "2024-12-26 17:59:10,578 alphafold2_ptm_model_2_seed_000 recycle=3 pLDDT=68.8 pTM=0.459 tol=4.26\n",
            "2024-12-26 17:59:10,591 alphafold2_ptm_model_2_seed_000 took 698.8s (3 recycles)\n",
            "2024-12-26 18:02:05,510 alphafold2_ptm_model_3_seed_000 recycle=0 pLDDT=67.8 pTM=0.439\n",
            "2024-12-26 18:05:01,474 alphafold2_ptm_model_3_seed_000 recycle=1 pLDDT=69.9 pTM=0.466 tol=11.9\n",
            "2024-12-26 18:07:56,102 alphafold2_ptm_model_3_seed_000 recycle=2 pLDDT=70.2 pTM=0.475 tol=5.92\n",
            "2024-12-26 18:10:51,544 alphafold2_ptm_model_3_seed_000 recycle=3 pLDDT=69.8 pTM=0.474 tol=6.9\n",
            "2024-12-26 18:10:51,567 alphafold2_ptm_model_3_seed_000 took 700.1s (3 recycles)\n",
            "2024-12-26 18:13:46,437 alphafold2_ptm_model_4_seed_000 recycle=0 pLDDT=63.7 pTM=0.463\n",
            "2024-12-26 18:16:43,138 alphafold2_ptm_model_4_seed_000 recycle=1 pLDDT=67.4 pTM=0.468 tol=25.8\n",
            "2024-12-26 18:19:36,694 alphafold2_ptm_model_4_seed_000 recycle=2 pLDDT=68.7 pTM=0.489 tol=7.84\n",
            "2024-12-26 18:22:31,957 alphafold2_ptm_model_4_seed_000 recycle=3 pLDDT=68.7 pTM=0.483 tol=4.58\n",
            "2024-12-26 18:22:31,971 alphafold2_ptm_model_4_seed_000 took 698.8s (3 recycles)\n",
            "2024-12-26 18:25:26,414 alphafold2_ptm_model_5_seed_000 recycle=0 pLDDT=65.4 pTM=0.458\n",
            "2024-12-26 18:28:22,248 alphafold2_ptm_model_5_seed_000 recycle=1 pLDDT=69.4 pTM=0.489 tol=22.6\n",
            "2024-12-26 18:31:16,439 alphafold2_ptm_model_5_seed_000 recycle=2 pLDDT=69.4 pTM=0.492 tol=5.09\n",
            "2024-12-26 18:34:11,261 alphafold2_ptm_model_5_seed_000 recycle=3 pLDDT=69.2 pTM=0.487 tol=13.1\n",
            "2024-12-26 18:34:11,275 alphafold2_ptm_model_5_seed_000 took 698.4s (3 recycles)\n",
            "2024-12-26 18:34:12,186 reranking models by 'plddt' metric\n",
            "2024-12-26 18:34:12,188 rank_001_alphafold2_ptm_model_1_seed_000 pLDDT=70.1 pTM=0.488\n",
            "2024-12-26 18:34:12,192 rank_002_alphafold2_ptm_model_3_seed_000 pLDDT=69.8 pTM=0.474\n",
            "2024-12-26 18:34:12,196 rank_003_alphafold2_ptm_model_5_seed_000 pLDDT=69.2 pTM=0.487\n",
            "2024-12-26 18:34:12,201 rank_004_alphafold2_ptm_model_2_seed_000 pLDDT=68.8 pTM=0.459\n",
            "2024-12-26 18:34:12,204 rank_005_alphafold2_ptm_model_4_seed_000 pLDDT=68.7 pTM=0.483\n",
            "2024-12-26 18:34:16,078 Done\n"
          ]
        },
        {
          "output_type": "execute_result",
          "data": {
            "text/plain": [
              "{'rank': [['rank_001_alphafold2_ptm_model_4_seed_000',\n",
              "   'rank_002_alphafold2_ptm_model_1_seed_000',\n",
              "   'rank_003_alphafold2_ptm_model_3_seed_000',\n",
              "   'rank_004_alphafold2_ptm_model_2_seed_000',\n",
              "   'rank_005_alphafold2_ptm_model_5_seed_000'],\n",
              "  ['rank_001_alphafold2_ptm_model_3_seed_000',\n",
              "   'rank_002_alphafold2_ptm_model_5_seed_000',\n",
              "   'rank_003_alphafold2_ptm_model_4_seed_000',\n",
              "   'rank_004_alphafold2_ptm_model_1_seed_000',\n",
              "   'rank_005_alphafold2_ptm_model_2_seed_000'],\n",
              "  ['rank_001_alphafold2_ptm_model_4_seed_000',\n",
              "   'rank_002_alphafold2_ptm_model_3_seed_000',\n",
              "   'rank_003_alphafold2_ptm_model_5_seed_000',\n",
              "   'rank_004_alphafold2_ptm_model_2_seed_000',\n",
              "   'rank_005_alphafold2_ptm_model_1_seed_000'],\n",
              "  ['rank_001_alphafold2_ptm_model_5_seed_000',\n",
              "   'rank_002_alphafold2_ptm_model_4_seed_000',\n",
              "   'rank_003_alphafold2_ptm_model_3_seed_000',\n",
              "   'rank_004_alphafold2_ptm_model_2_seed_000',\n",
              "   'rank_005_alphafold2_ptm_model_1_seed_000'],\n",
              "  ['rank_001_alphafold2_ptm_model_4_seed_000',\n",
              "   'rank_002_alphafold2_ptm_model_3_seed_000',\n",
              "   'rank_003_alphafold2_ptm_model_5_seed_000',\n",
              "   'rank_004_alphafold2_ptm_model_2_seed_000',\n",
              "   'rank_005_alphafold2_ptm_model_1_seed_000'],\n",
              "  ['rank_001_alphafold2_ptm_model_3_seed_000',\n",
              "   'rank_002_alphafold2_ptm_model_5_seed_000',\n",
              "   'rank_003_alphafold2_ptm_model_4_seed_000',\n",
              "   'rank_004_alphafold2_ptm_model_2_seed_000',\n",
              "   'rank_005_alphafold2_ptm_model_1_seed_000'],\n",
              "  ['rank_001_alphafold2_ptm_model_1_seed_000',\n",
              "   'rank_002_alphafold2_ptm_model_3_seed_000',\n",
              "   'rank_003_alphafold2_ptm_model_5_seed_000',\n",
              "   'rank_004_alphafold2_ptm_model_2_seed_000',\n",
              "   'rank_005_alphafold2_ptm_model_4_seed_000']],\n",
              " 'metric': [[{'mean_plddt': 85.9375,\n",
              "    'ptm': 0.65283203125,\n",
              "    'print_line': ' pLDDT=85.9 pTM=0.653'},\n",
              "   {'mean_plddt': 85.75,\n",
              "    'ptm': 0.6484375,\n",
              "    'print_line': ' pLDDT=85.8 pTM=0.648'},\n",
              "   {'mean_plddt': 85.5625,\n",
              "    'ptm': 0.6484375,\n",
              "    'print_line': ' pLDDT=85.6 pTM=0.648'},\n",
              "   {'mean_plddt': 85.125,\n",
              "    'ptm': 0.62451171875,\n",
              "    'print_line': ' pLDDT=85.1 pTM=0.625'},\n",
              "   {'mean_plddt': 85.0,\n",
              "    'ptm': 0.6552734375,\n",
              "    'print_line': ' pLDDT=85 pTM=0.655'}],\n",
              "  [{'mean_plddt': 86.375,\n",
              "    'ptm': 0.65234375,\n",
              "    'print_line': ' pLDDT=86.4 pTM=0.652'},\n",
              "   {'mean_plddt': 86.125,\n",
              "    'ptm': 0.66015625,\n",
              "    'print_line': ' pLDDT=86.1 pTM=0.66'},\n",
              "   {'mean_plddt': 85.8125,\n",
              "    'ptm': 0.650390625,\n",
              "    'print_line': ' pLDDT=85.8 pTM=0.65'},\n",
              "   {'mean_plddt': 85.6875,\n",
              "    'ptm': 0.64404296875,\n",
              "    'print_line': ' pLDDT=85.7 pTM=0.644'},\n",
              "   {'mean_plddt': 85.3125,\n",
              "    'ptm': 0.62353515625,\n",
              "    'print_line': ' pLDDT=85.3 pTM=0.624'}],\n",
              "  [{'mean_plddt': 86.25,\n",
              "    'ptm': 0.6474609375,\n",
              "    'print_line': ' pLDDT=86.2 pTM=0.647'},\n",
              "   {'mean_plddt': 86.1875,\n",
              "    'ptm': 0.6484375,\n",
              "    'print_line': ' pLDDT=86.2 pTM=0.648'},\n",
              "   {'mean_plddt': 86.0625,\n",
              "    'ptm': 0.65576171875,\n",
              "    'print_line': ' pLDDT=86.1 pTM=0.656'},\n",
              "   {'mean_plddt': 85.8125,\n",
              "    'ptm': 0.623046875,\n",
              "    'print_line': ' pLDDT=85.8 pTM=0.623'},\n",
              "   {'mean_plddt': 85.75,\n",
              "    'ptm': 0.63916015625,\n",
              "    'print_line': ' pLDDT=85.8 pTM=0.639'}],\n",
              "  [{'mean_plddt': 86.125,\n",
              "    'ptm': 0.65966796875,\n",
              "    'print_line': ' pLDDT=86.1 pTM=0.66'},\n",
              "   {'mean_plddt': 86.125,\n",
              "    'ptm': 0.65478515625,\n",
              "    'print_line': ' pLDDT=86.1 pTM=0.655'},\n",
              "   {'mean_plddt': 85.6875,\n",
              "    'ptm': 0.64697265625,\n",
              "    'print_line': ' pLDDT=85.7 pTM=0.647'},\n",
              "   {'mean_plddt': 85.625,\n",
              "    'ptm': 0.6298828125,\n",
              "    'print_line': ' pLDDT=85.6 pTM=0.63'},\n",
              "   {'mean_plddt': 85.5625,\n",
              "    'ptm': 0.6455078125,\n",
              "    'print_line': ' pLDDT=85.6 pTM=0.646'}],\n",
              "  [{'mean_plddt': 86.375,\n",
              "    'ptm': 0.65087890625,\n",
              "    'print_line': ' pLDDT=86.4 pTM=0.651'},\n",
              "   {'mean_plddt': 86.1875,\n",
              "    'ptm': 0.65087890625,\n",
              "    'print_line': ' pLDDT=86.2 pTM=0.651'},\n",
              "   {'mean_plddt': 86.125,\n",
              "    'ptm': 0.65576171875,\n",
              "    'print_line': ' pLDDT=86.1 pTM=0.656'},\n",
              "   {'mean_plddt': 85.5625,\n",
              "    'ptm': 0.61572265625,\n",
              "    'print_line': ' pLDDT=85.6 pTM=0.616'},\n",
              "   {'mean_plddt': 85.5625,\n",
              "    'ptm': 0.6376953125,\n",
              "    'print_line': ' pLDDT=85.6 pTM=0.638'}],\n",
              "  [{'mean_plddt': 86.3125,\n",
              "    'ptm': 0.64990234375,\n",
              "    'print_line': ' pLDDT=86.3 pTM=0.65'},\n",
              "   {'mean_plddt': 86.25,\n",
              "    'ptm': 0.658203125,\n",
              "    'print_line': ' pLDDT=86.2 pTM=0.658'},\n",
              "   {'mean_plddt': 85.9375,\n",
              "    'ptm': 0.646484375,\n",
              "    'print_line': ' pLDDT=85.9 pTM=0.646'},\n",
              "   {'mean_plddt': 85.375,\n",
              "    'ptm': 0.62451171875,\n",
              "    'print_line': ' pLDDT=85.4 pTM=0.625'},\n",
              "   {'mean_plddt': 85.3125,\n",
              "    'ptm': 0.63525390625,\n",
              "    'print_line': ' pLDDT=85.3 pTM=0.635'}],\n",
              "  [{'mean_plddt': 70.0625,\n",
              "    'ptm': 0.487548828125,\n",
              "    'print_line': ' pLDDT=70.1 pTM=0.488'},\n",
              "   {'mean_plddt': 69.8125,\n",
              "    'ptm': 0.473876953125,\n",
              "    'print_line': ' pLDDT=69.8 pTM=0.474'},\n",
              "   {'mean_plddt': 69.1875,\n",
              "    'ptm': 0.487060546875,\n",
              "    'print_line': ' pLDDT=69.2 pTM=0.487'},\n",
              "   {'mean_plddt': 68.75,\n",
              "    'ptm': 0.458740234375,\n",
              "    'print_line': ' pLDDT=68.8 pTM=0.459'},\n",
              "   {'mean_plddt': 68.6875,\n",
              "    'ptm': 0.4833984375,\n",
              "    'print_line': ' pLDDT=68.7 pTM=0.483'}]]}"
            ]
          },
          "metadata": {},
          "execution_count": 7
        }
      ]
    },
    {
      "cell_type": "markdown",
      "metadata": {
        "id": "UGUBLzB3C6WN"
      },
      "source": [
        "# Instructions <a name=\"Instructions\"></a>\n",
        "**Quick start**\n",
        "1. Upload your single fasta files to a folder in your Google Drive\n",
        "2. Define path to the fold containing the fasta files (`input_dir`) define an outdir (`output_dir`)\n",
        "3. Press \"Runtime\" -> \"Run all\".\n",
        "\n",
        "**Result zip file contents**\n",
        "\n",
        "At the end of the job a all results `jobname.result.zip` will be uploaded to your (`output_dir`) Google Drive. Each zip contains one protein.\n",
        "\n",
        "1. PDB formatted structures sorted by avg. pIDDT. (unrelaxed and relaxed if `use_amber` is enabled).\n",
        "2. Plots of the model quality.\n",
        "3. Plots of the MSA coverage.\n",
        "4. Parameter log file.\n",
        "5. A3M formatted input MSA.\n",
        "6. BibTeX file with citations for all used tools and databases.\n",
        "\n",
        "\n",
        "**Troubleshooting**\n",
        "* Check that the runtime type is set to GPU at \"Runtime\" -> \"Change runtime type\".\n",
        "* Try to restart the session \"Runtime\" -> \"Factory reset runtime\".\n",
        "* Check your input sequence.\n",
        "\n",
        "**Known issues**\n",
        "* Google Colab assigns different types of GPUs with varying amount of memory. Some might not have enough memory to predict the structure for a long sequence.\n",
        "* Google Colab assigns different types of GPUs with varying amount of memory. Some might not have enough memory to predict the structure for a long sequence.\n",
        "* Your browser can block the pop-up for downloading the result file. You can choose the `save_to_google_drive` option to upload to Google Drive instead or manually download the result file: Click on the little folder icon to the left, navigate to file: `jobname.result.zip`, right-click and select \\\"Download\\\" (see [screenshot](https://pbs.twimg.com/media/E6wRW2lWUAEOuoe?format=jpg&name=small)).\n",
        "\n",
        "**Limitations**\n",
        "* Computing resources: Our MMseqs2 API can handle ~20-50k requests per day.\n",
        "* MSAs: MMseqs2 is very precise and sensitive but might find less hits compared to HHblits/HMMer searched against BFD or Mgnify.\n",
        "* We recommend to additionally use the full [AlphaFold2 pipeline](https://github.com/deepmind/alphafold).\n",
        "\n",
        "**Description of the plots**\n",
        "*   **Number of sequences per position** - We want to see at least 30 sequences per position, for best performance, ideally 100 sequences.\n",
        "*   **Predicted lDDT per position** - model confidence (out of 100) at each position. The higher the better.\n",
        "*   **Predicted Alignment Error** - For homooligomers, this could be a useful metric to assess how confident the model is about the interface. The lower the better.\n",
        "\n",
        "**Bugs**\n",
        "- If you encounter any bugs, please report the issue to https://github.com/sokrypton/ColabFold/issues\n",
        "\n",
        "**License**\n",
        "\n",
        "The source code of ColabFold is licensed under [MIT](https://raw.githubusercontent.com/sokrypton/ColabFold/main/LICENSE). Additionally, this notebook uses AlphaFold2 source code and its parameters licensed under [Apache 2.0](https://raw.githubusercontent.com/deepmind/alphafold/main/LICENSE) and  [CC BY 4.0](https://creativecommons.org/licenses/by-sa/4.0/) respectively. Read more about the AlphaFold license [here](https://github.com/deepmind/alphafold).\n",
        "\n",
        "**Acknowledgments**\n",
        "- We thank the AlphaFold team for developing an excellent model and open sourcing the software.\n",
        "\n",
        "- Do-Yoon Kim for creating the ColabFold logo.\n",
        "\n",
        "- A colab by Sergey Ovchinnikov ([@sokrypton](https://twitter.com/sokrypton)), Milot Mirdita ([@milot_mirdita](https://twitter.com/milot_mirdita)) and Martin Steinegger ([@thesteinegger](https://twitter.com/thesteinegger)).\n"
      ]
    }
  ]
}